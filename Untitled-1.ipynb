{
 "cells": [
  {
   "cell_type": "code",
   "execution_count": null,
   "metadata": {},
   "outputs": [],
   "source": [
    "import PIL.Image as Image\n",
    "import matplotlib.pyplot as plt\n",
    "import numpy as np\n",
    "\n",
    "pi = np.pi\n",
    "img = Image.open('/Users/Chase/Downloads/cat.78.jpg')\n",
    "seg = Image.open('/Users/Chase/Downloads/mask_cat.78.jpg')\n",
    "\n",
    "slices = 36\n",
    "\n",
    "for angle in range(0,360, 360//slices):\n",
    "    img2 = img.rotate(angle)\n",
    "    seg2 = seg.rotate(angle)\n",
    "\n",
    "    fig, axs = plt.subplots(1,2)\n",
    "    axs[0].imshow(img2)\n",
    "    axs[0].axis('off')\n",
    "    axs[1].imshow(seg2)\n",
    "    plt.axis('off')\n",
    "    plt.show()"
   ]
  }
 ],
 "metadata": {
  "kernelspec": {
   "display_name": "Python 3.10.2",
   "language": "python",
   "name": "python3"
  },
  "language_info": {
   "name": "python",
   "version": "3.10.2"
  },
  "orig_nbformat": 4,
  "vscode": {
   "interpreter": {
    "hash": "d8aac955762beee0c10884113fb98ef9214545c73b38527820179d9cc2494984"
   }
  }
 },
 "nbformat": 4,
 "nbformat_minor": 2
}
